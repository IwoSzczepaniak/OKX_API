{
 "cells": [
  {
   "cell_type": "markdown",
   "metadata": {},
   "source": [
    "### Imports"
   ]
  },
  {
   "cell_type": "code",
   "execution_count": 49,
   "metadata": {},
   "outputs": [],
   "source": [
    "import requests\n",
    "import pandas as pd\n",
    "\n",
    "url = 'https://www.okx.com'"
   ]
  },
  {
   "cell_type": "markdown",
   "metadata": {},
   "source": [
    "### Main function"
   ]
  },
  {
   "cell_type": "markdown",
   "metadata": {},
   "source": [
    "##### Tried to find names of cols here"
   ]
  },
  {
   "cell_type": "code",
   "execution_count": 50,
   "metadata": {},
   "outputs": [],
   "source": [
    "# response = requests.get(url + '/api/v5/market/candles?instId=BTC-USDT-SWAP&bar=15m&limit=100') # extra 20 for moving average\n",
    "# data = response.json()\n",
    "# data\n",
    "\n",
    "# df = pd.DataFrame(data['data'])\n",
    "# df\n",
    "\n"
   ]
  },
  {
   "cell_type": "code",
   "execution_count": 51,
   "metadata": {},
   "outputs": [],
   "source": [
    "def get_df(symbol, timeframe = '15m', limit = 100, period = 20):\n",
    "    response = requests.get(url + f'/api/v5/market/candles?instId={symbol}&bar={timeframe}&limit={limit+20}') # extra 20 for moving average\n",
    "    data = response.json()\n",
    "    df = pd.DataFrame(data['data'])\n",
    "\n",
    "    df['moving_av'] = df[3].rolling(period).mean() \n",
    "    # not sure if for every symbol 3rd col stands for Close price. \n",
    "    # I found some informations on https://algotrading101.com/learn/okx-api-guide/ \n",
    "    # and tried to find more details in documentation, but failed to find the answer\n",
    "    df = df[20:] # delete of extra 20 \n",
    "    return df['moving_av']\n"
   ]
  },
  {
   "cell_type": "markdown",
   "metadata": {},
   "source": [
    "##### Outcome"
   ]
  },
  {
   "cell_type": "code",
   "execution_count": 52,
   "metadata": {},
   "outputs": [
    {
     "data": {
      "text/plain": [
       "20     26701.085\n",
       "21     26703.875\n",
       "22     26711.875\n",
       "23     26716.155\n",
       "24     26723.195\n",
       "         ...    \n",
       "115    26946.170\n",
       "116    26973.670\n",
       "117    27000.015\n",
       "118    27028.825\n",
       "119    27061.305\n",
       "Name: moving_av, Length: 100, dtype: float64"
      ]
     },
     "execution_count": 52,
     "metadata": {},
     "output_type": "execute_result"
    }
   ],
   "source": [
    "df = get_df('BTC-USDT-SWAP')\n",
    "df"
   ]
  },
  {
   "cell_type": "markdown",
   "metadata": {},
   "source": [
    "##### Save to xlsx file"
   ]
  },
  {
   "cell_type": "code",
   "execution_count": 53,
   "metadata": {},
   "outputs": [],
   "source": [
    "def save_to_xlsx(name):\n",
    "    df.to_excel(f'{name}.xlsx', index=False)"
   ]
  },
  {
   "cell_type": "code",
   "execution_count": 54,
   "metadata": {},
   "outputs": [],
   "source": [
    "save_to_xlsx(\"test\")"
   ]
  }
 ],
 "metadata": {
  "kernelspec": {
   "display_name": "base",
   "language": "python",
   "name": "python3"
  },
  "language_info": {
   "codemirror_mode": {
    "name": "ipython",
    "version": 3
   },
   "file_extension": ".py",
   "mimetype": "text/x-python",
   "name": "python",
   "nbconvert_exporter": "python",
   "pygments_lexer": "ipython3",
   "version": "3.9.12"
  }
 },
 "nbformat": 4,
 "nbformat_minor": 2
}
